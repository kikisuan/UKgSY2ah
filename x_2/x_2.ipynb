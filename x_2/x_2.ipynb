{
 "cells": [
  {
   "cell_type": "code",
   "execution_count": null,
   "metadata": {},
   "outputs": [],
   "source": [
    "import pandas as pd\n",
    "class RFM(object):\n",
    "    url = None\n",
    "    flag = None\n",
    "    li = None\n",
    "    def __init__(self,flag):\n",
    "        self.flag = flag\n",
    "        self._open_csv()\n",
    "        self._sort_by_value()\n",
    "        self._df_tolist()\n",
    "    def _open_csv(self):\n",
    "        url = \"https://raw.githubusercontent.com/kikisuan/UKgSY2ah/master/x_2/rfm.csv\"\n",
    "        dfcsv = pd.read_csv(url)\n",
    "        return dfcsv\n",
    "    def _sort_by_value(self):\n",
    "        df = self._open_csv()\n",
    "        flag = self.flag\n",
    "        df['T']= df['R']+df['F']+df['M']\n",
    "        result = {\n",
    "        'R': lambda x:df[['ID','R']].sort_values(by = 'R',ascending=False),\n",
    "        'F': lambda x:df[['ID','F']].sort_values(by = 'F',ascending=False),\n",
    "        'M': lambda x:df[['ID','M']].sort_values(by = 'M',ascending=True),\n",
    "        'T': lambda x:df[['ID','T']].sort_values(by = 'T',ascending=False)\n",
    "        }[flag](x)\n",
    "        return result['ID']\n",
    "    def _df_tolist(self):\n",
    "        df = self._sort_by_value()\n",
    "        self.li = df.tolist()\n",
    "        return self.li\n",
    "rfm = RFM('T')\n",
    "rfm._sort_by_value()\n",
    "rfm._df_tolist()"
   ]
  }
 ],
 "metadata": {
  "kernelspec": {
   "display_name": "Python 3",
   "language": "python",
   "name": "python3"
  },
  "language_info": {
   "codemirror_mode": {
    "name": "ipython",
    "version": 3
   },
   "file_extension": ".py",
   "mimetype": "text/x-python",
   "name": "python",
   "nbconvert_exporter": "python",
   "pygments_lexer": "ipython3",
   "version": "3.7.4"
  }
 },
 "nbformat": 4,
 "nbformat_minor": 2
}
