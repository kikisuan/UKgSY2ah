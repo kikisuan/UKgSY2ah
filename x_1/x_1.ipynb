{
 "cells": [
  {
   "cell_type": "code",
   "execution_count": 1,
   "metadata": {},
   "outputs": [
    {
     "name": "stdout",
     "output_type": "stream",
     "text": [
      "Enter number of elements : 8\n"
     ]
    },
    {
     "data": {
      "text/plain": [
       "2.0"
      ]
     },
     "execution_count": 1,
     "metadata": {},
     "output_type": "execute_result"
    }
   ],
   "source": [
    "import  sys\n",
    "class phone(object):\n",
    "    price= None\n",
    "    camera_count= None\n",
    "    screen_size= None\n",
    "    def __init__(self, price, camera_count, screen_size):\n",
    "        self.price = price\n",
    "        self.camera_count = camera_count\n",
    "        self.screen_size = screen_size\n",
    "        self._check_phone()\n",
    " \n",
    "    def _special_feature(input_num_or_list):\n",
    "        raise NotImplementedError(\"Please Implement this method\")\n",
    "\n",
    "    \n",
    "    def _check_phone(self):\n",
    "        raise NotImplementedError(\"Please Implement this method\")\n",
    "    \n",
    "    \n",
    "class google(phone):\n",
    "    def __init__(self, price, camera_count, screen_size):\n",
    "        super().__init__(price, camera_count,screen_size)\n",
    "    def _check_phone(self):\n",
    "        if self.price != 10:\n",
    "            print('The price should be 10')\n",
    "        if self.camera_count != 3:\n",
    "            print('The camera number should be 3')\n",
    "        if self.screen_size != 5:\n",
    "            print('The screen size should be 5')\n",
    "        return True\n",
    "    def _special_feature(self):\n",
    "        intlist = []\n",
    "        n = int(input(\"Enter number of elements : \")) \n",
    "        for i in range(0, n): \n",
    "            ele = int(input()) \n",
    "  \n",
    "            intlist.append(ele) # adding the element \n",
    "        slist = [y for y in intlist if y%2 == 0 and y > 10]\n",
    "        slist = sorted(slist,reverse = True)\n",
    "        if len(slist) == 0:\n",
    "            print(\"the special feature is null\")\n",
    "        else:\n",
    "            print(\"the list is not null\")\n",
    "            return slist\n",
    "class taiwan(phone):\n",
    "    @staticmethod\n",
    "    def fib(n):\n",
    "        x,y=0,1\n",
    "        while(n):\n",
    "            x,y = y,x+y\n",
    "            n = n-1\n",
    "        return x\n",
    "    @staticmethod\n",
    "    def fac(n):\n",
    "        res = 1\n",
    "        num = 1\n",
    "        if n == 0:\n",
    "            return res\n",
    "        else:\n",
    "            while num <= n:\n",
    "                res *= num\n",
    "                num += 1\n",
    "            return res\n",
    "    def _check_phone(self):\n",
    "        if self.price != 20:\n",
    "            print('The price should be 20')\n",
    "        if self.camera_count != 1:\n",
    "            print('The camera number should be 1')\n",
    "        if self.screen_size != 3:\n",
    "            print('The screen size should be 3')\n",
    "        return True\n",
    "    def _special_feature(self):\n",
    "        num = int(input(\"Enter number of elements : \")) \n",
    "        x = int((self.fib(num)%100)/10)\n",
    "        #print(self.fib(num))\n",
    "        y = self.fib(num)%10\n",
    "        #print(self.fib(num)%10)\n",
    "        #permutation rule\n",
    "        if x-y < 0:\n",
    "            print(\"there is no answer\")\n",
    "            sys.exit()\n",
    "        else:\n",
    "            pnum = self.fac(x)/self.fac(x-y)\n",
    "            return pnum\n",
    "phone = taiwan(20,1,3)   \n",
    "phone._special_feature()"
   ]
  },
  {
   "cell_type": "code",
   "execution_count": null,
   "metadata": {},
   "outputs": [],
   "source": []
  }
 ],
 "metadata": {
  "kernelspec": {
   "display_name": "Python 3",
   "language": "python",
   "name": "python3"
  },
  "language_info": {
   "codemirror_mode": {
    "name": "ipython",
    "version": 3
   },
   "file_extension": ".py",
   "mimetype": "text/x-python",
   "name": "python",
   "nbconvert_exporter": "python",
   "pygments_lexer": "ipython3",
   "version": "3.7.4"
  }
 },
 "nbformat": 4,
 "nbformat_minor": 2
}
